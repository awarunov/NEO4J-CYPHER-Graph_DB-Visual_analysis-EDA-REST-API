{
 "cells": [
  {
   "cell_type": "code",
   "execution_count": 1,
   "id": "1b4f946a",
   "metadata": {},
   "outputs": [],
   "source": [
    "#Необходимо установить Neo4j Desktop, APOC в Neo4j\n",
    "#Устанавливаем модуль 'pip install git+https://github.com/ybaktir/networkx-neo4j' от Yusuf Baktir, Ph.D.\n",
    "#Yusuf Baktir, для динамической визуализации на основе vis и использования алгоритмов GDS\n",
    "\n",
    "from neo4j import GraphDatabase\n",
    "import pandas as pd\n",
    "import py2neo as p2n\n",
    "import requests, yadisk, sys, os, zipfile, neo4jupyter\n",
    "import networkx as nx\n",
    "import nxneo4j as ne\n",
    "import numpy as np\n",
    "import requests\n",
    "\n",
    "import community\n",
    "import matplotlib.pyplot as plt\n",
    "import matplotlib.cm as cm\n",
    "from urllib.parse import urlencode\n",
    "from graphdatascience import GraphDataScience"
   ]
  },
  {
   "cell_type": "code",
   "execution_count": 2,
   "id": "56ec6544",
   "metadata": {},
   "outputs": [],
   "source": [
    "#Исходные данные \n",
    "#путь к папке хранения файлов импорта базы neo4j - нужно скопировать свой\n",
    "#читаем как подключиться к API Яндекс.Диска тут: https://yandex.ru/dev/id/doc/ru/concepts/ya-oauth-intro\n",
    "path_file = os.path.join(os.environ['HOMEDRIVE'], os.environ['HOMEPATH'], '.Neo4jDesktop', 'relate-data', 'dbmss', 'dbms-b73ce0db-e413-482f-932e-8e24c4f910a8', 'import')\n",
    "\n",
    "#Яндекс.Диск данные для получения доступа\n",
    "id_ya = '____________________________' #<id-приложения>\n",
    "sec_ya = '____________________________'#<secret-приложения>\n",
    "\n",
    "b_host = 'bolt://localhost:7687'\n",
    "host = 'http://localhost:7474/db/data/'\n",
    "user = 'neo4j'\n",
    "password= 'neo4jneo4j'\n",
    "\n",
    "#gds = GraphDataScience(host, auth=(user, password))\n",
    "graph = p2n.Graph(b_host, auth=(user, password))\n",
    "driver = GraphDatabase.driver(uri=b_host, auth=(user, password))"
   ]
  },
  {
   "cell_type": "code",
   "execution_count": null,
   "id": "da5cc85f",
   "metadata": {},
   "outputs": [],
   "source": [
    "#Распределение узлов графа по категориями в рамках сообществ, используя функцию ранжирования pagerank\n",
    "\n",
    "def categorize(G, part, func):\n",
    "    distrib = {\"Лидеры\": 0.05, \"Посредники\": 0.2}\n",
    "    result = {node: 1 for node in G.nodes()}\n",
    "    \n",
    "    # Идем по всем сообществам\n",
    "    for p in range(max(part.values())+1):\n",
    "        print('{:^60}'.format(\"Сообщество \" + str(p+1)))\n",
    "        \n",
    "        # Выделяем всех членов этого сообщества\n",
    "        members = [key for key, val in part.items() if val == p]\n",
    "        # Выделяем подграф соответсвующий этим членам\n",
    "        sub_graph = nx.DiGraph(G).subgraph(members)\n",
    "        # Вычисляем Page Rank\n",
    "        pagerank = func(sub_graph)\n",
    "        pagerank = sorted(pagerank.items(), key=lambda x: x[1])\n",
    "        pagerank = [item[0] for item in pagerank]\n",
    "        # Распределяем по категориям\n",
    "        old = [0]\n",
    "        for t, d in distrib.items():\n",
    "            count = round(len(members)*d)\n",
    "            selected_members = pagerank[old[-1]:count]\n",
    "            old.append(count)\n",
    "            print(\"{:11}: {}\".format(t, selected_members))\n",
    "            for member in selected_members:\n",
    "                result[member] = len(old)\n",
    "        print()  \n",
    "    return result"
   ]
  },
  {
   "cell_type": "code",
   "execution_count": null,
   "id": "05349000",
   "metadata": {},
   "outputs": [],
   "source": [
    "#Аутентификация на Яндекс.Диске\n",
    "y = yadisk.YaDisk(id_ya, sec_ya)\n",
    "url = y.get_code_url()\n",
    "\n",
    "print(\"Переходим по ссылке для получения кода: %s\" % url)\n",
    "code = input(\"Введите код: \")\n",
    "\n",
    "try:\n",
    "    response = y.get_token(code)\n",
    "except yadisk.exceptions.BadRequestError:\n",
    "    print(\"Неверный код!\")\n",
    "    sys.exit(1)\n",
    "\n",
    "y.token = response.access_token\n",
    "\n",
    "if y.check_token():\n",
    "    print(\"Успешно!\")\n",
    "else:\n",
    "    print(\"Неудачно!\")"
   ]
  },
  {
   "cell_type": "code",
   "execution_count": null,
   "id": "95b1c766",
   "metadata": {},
   "outputs": [],
   "source": [
    "#Загрузка файла\n",
    "base_url = 'https://cloud-api.yandex.net/v1/disk/public/resources/download?'\n",
    "public_key = 'https://disk.yandex.ru/d/s6wWqd8Ol_5IvQ'  # Ссылка на данные\n",
    "\n",
    "# Получаем загрузочную ссылку\n",
    "final_url = base_url + urlencode(dict(public_key=public_key))\n",
    "headers = {\"Authorization\": f\"OAuth {y.token}\"}\n",
    "response = requests.get(final_url, headers=headers)\n",
    "download_url = response.json()['href']\n",
    "# Загружаем файл и сохраняем его\n",
    "download_response = requests.get(download_url)\n",
    "print('Скачали архив с данными и распаковали в папку:')\n",
    "\n",
    "with open('GraphTask.zip', 'wb') as f:\n",
    "    f.write(download_response.content)\n",
    "with zipfile.ZipFile('GraphTask.zip','r') as zip_ref:\n",
    "    zip_ref.extractall(path_file)\n",
    "print(path_file)"
   ]
  },
  {
   "cell_type": "code",
   "execution_count": 133,
   "id": "1d72f928",
   "metadata": {
    "scrolled": false
   },
   "outputs": [
    {
     "data": {
      "text/plain": [
       "[]"
      ]
     },
     "execution_count": 133,
     "metadata": {},
     "output_type": "execute_result"
    }
   ],
   "source": [
    "#Загрузка данных в базу Neo4j через py2neo\n",
    "\n",
    "graph.delete_all()\n",
    "query_in = '''\n",
    "LOAD CSV WITH HEADERS FROM 'file:///GraphTask/data_test.csv' AS line FIELDTERMINATOR ';'\n",
    "CREATE (p1:participant_1 {FullName:line.`ФИО участника события 1`})-[:PARTICIPATION_IN]->(:event {id_event:line.`id события`})<-[:PARTICIPATION_IN]-(p2:participant_2 {FullName:line.`ФИО участника события 2`}) \n",
    "'''\n",
    "graph.run(query_in).data()"
   ]
  },
  {
   "cell_type": "code",
   "execution_count": 18,
   "id": "81829e14",
   "metadata": {
    "scrolled": false
   },
   "outputs": [
    {
     "name": "stdout",
     "output_type": "stream",
     "text": [
      "Получим датафрейм участников множеств событий(>1) и событий, в которых участвовали множества участников(>2):\n"
     ]
    },
    {
     "data": {
      "text/html": [
       "<div>\n",
       "<style scoped>\n",
       "    .dataframe tbody tr th:only-of-type {\n",
       "        vertical-align: middle;\n",
       "    }\n",
       "\n",
       "    .dataframe tbody tr th {\n",
       "        vertical-align: top;\n",
       "    }\n",
       "\n",
       "    .dataframe thead th {\n",
       "        text-align: right;\n",
       "    }\n",
       "</style>\n",
       "<table border=\"1\" class=\"dataframe\">\n",
       "  <thead>\n",
       "    <tr style=\"text-align: right;\">\n",
       "      <th></th>\n",
       "      <th>child</th>\n",
       "      <th>parent</th>\n",
       "    </tr>\n",
       "  </thead>\n",
       "  <tbody>\n",
       "    <tr>\n",
       "      <th>2</th>\n",
       "      <td>Бугайчук Роман Эдуардович</td>\n",
       "      <td>972769</td>\n",
       "    </tr>\n",
       "    <tr>\n",
       "      <th>3</th>\n",
       "      <td>Анихнова Тамара Руслановна</td>\n",
       "      <td>972769</td>\n",
       "    </tr>\n",
       "    <tr>\n",
       "      <th>697</th>\n",
       "      <td>Ахромеева Алина Ивановна</td>\n",
       "      <td>42389</td>\n",
       "    </tr>\n",
       "    <tr>\n",
       "      <th>805</th>\n",
       "      <td>Ахромеева Алина Ивановна</td>\n",
       "      <td>53707</td>\n",
       "    </tr>\n",
       "    <tr>\n",
       "      <th>871</th>\n",
       "      <td>Ахромеева Алина Ивановна</td>\n",
       "      <td>59801</td>\n",
       "    </tr>\n",
       "    <tr>\n",
       "      <th>...</th>\n",
       "      <td>...</td>\n",
       "      <td>...</td>\n",
       "    </tr>\n",
       "    <tr>\n",
       "      <th>8979</th>\n",
       "      <td>Старовойтов Вячеслав Павлович</td>\n",
       "      <td>873359</td>\n",
       "    </tr>\n",
       "    <tr>\n",
       "      <th>9628</th>\n",
       "      <td>Хрисогонов Иван Геннадьевич</td>\n",
       "      <td>938764</td>\n",
       "    </tr>\n",
       "    <tr>\n",
       "      <th>9629</th>\n",
       "      <td>Солтаганов Федор Ефимович</td>\n",
       "      <td>938764</td>\n",
       "    </tr>\n",
       "    <tr>\n",
       "      <th>9630</th>\n",
       "      <td>Двигубская Яна Ивановна</td>\n",
       "      <td>938764</td>\n",
       "    </tr>\n",
       "    <tr>\n",
       "      <th>9631</th>\n",
       "      <td>Самолов Михаил Алексеевич</td>\n",
       "      <td>938764</td>\n",
       "    </tr>\n",
       "  </tbody>\n",
       "</table>\n",
       "<p>188 rows × 2 columns</p>\n",
       "</div>"
      ],
      "text/plain": [
       "                              child  parent\n",
       "2         Бугайчук Роман Эдуардович  972769\n",
       "3        Анихнова Тамара Руслановна  972769\n",
       "697        Ахромеева Алина Ивановна   42389\n",
       "805        Ахромеева Алина Ивановна   53707\n",
       "871        Ахромеева Алина Ивановна   59801\n",
       "...                             ...     ...\n",
       "8979  Старовойтов Вячеслав Павлович  873359\n",
       "9628    Хрисогонов Иван Геннадьевич  938764\n",
       "9629      Солтаганов Федор Ефимович  938764\n",
       "9630        Двигубская Яна Ивановна  938764\n",
       "9631      Самолов Михаил Алексеевич  938764\n",
       "\n",
       "[188 rows x 2 columns]"
      ]
     },
     "metadata": {},
     "output_type": "display_data"
    }
   ],
   "source": [
    "# Выгрузка и подготовка данных для анализа графа, очистка от шума\n",
    "query_out = '''\n",
    "MATCH (source)-[part_in:PARTICIPATION_IN]->(dest:event)\n",
    "WITH COLLECT(source)+COLLECT(dest) AS myNodes\n",
    "UNWIND myNodes as myNode\n",
    "MATCH p=(myNode)-[:PARTICIPATION_IN]->(neighbor)\n",
    "RETURN  myNode.`FullName` as child, neighbor.`id_event` as parent // LIMIT 20\n",
    "'''\n",
    "\n",
    "df = pd.DataFrame(graph.run(query_out).data())\n",
    "\n",
    "df1=pd.pivot_table(df,  index = ['child'],\n",
    "                    aggfunc='count').reset_index().sort_values(by=['parent'])\n",
    "df1 = df1[df1['parent'] > 1]\n",
    "\n",
    "df2=pd.pivot_table(df,  index = ['parent'],\n",
    "                    aggfunc='count').reset_index().sort_values(by=['child'])\n",
    "df2 = df2[df2['child'] > 2]\n",
    "\n",
    "df1 = df[df['child'].isin(df1['child'])]\n",
    "df2 = df[df['parent'].isin(df2['parent'])]\n",
    "df3 = pd.concat([df1,df2], axis=0)\n",
    "print('Получим датафрейм участников множеств событий(>1) и событий, в которых участвовали множества участников(>2):')\n",
    "display(df3)"
   ]
  },
  {
   "cell_type": "code",
   "execution_count": 103,
   "id": "b2fcbcec",
   "metadata": {
    "scrolled": false
   },
   "outputs": [
    {
     "data": {
      "text/html": [
       "\n",
       "        <iframe\n",
       "            width=\"100%\"\n",
       "            height=\"500\"\n",
       "            src=\"vis.html\"\n",
       "            frameborder=\"0\"\n",
       "            allowfullscreen\n",
       "            \n",
       "        ></iframe>\n",
       "        "
      ],
      "text/plain": [
       "<IPython.lib.display.IFrame at 0x1c123a406a0>"
      ]
     },
     "execution_count": 103,
     "metadata": {},
     "output_type": "execute_result"
    }
   ],
   "source": [
    "#Визулизируем граф и ищем взаимосвязи\n",
    "\n",
    "config ={\n",
    "'node_label': 'Node',\n",
    "'relationship_type': 'PARTICIPATION_IN',\n",
    "'identifier_property': 'id'\n",
    "}\n",
    "\n",
    "Gnx = nx.DiGraph()\n",
    "Gne = ne.DiGraph(driver, config=config)\n",
    "Gne.delete_all()\n",
    "Gnx.clear()\n",
    "tuples = [tuple(x) for x in df3.values]\n",
    "Gnx.add_edges_from(tuples)\n",
    "Gne.add_edges_from(tuples)\n",
    "partition = community.best_partition(Gnx.to_undirected())\n",
    "\n",
    "##Для корректного отображения кириллицы требуется сменить кодировку в EnvironmentFolder/Lib/site-packages/nxneo4j/draw.py, т.е. \n",
    "#в заголовке html-кода формирования страницы vis.html (ln 33, col 5) переменную charset поменять с =utf8 на =windows-1251\n",
    "\n",
    "ne.draw(Gne, limit=400)"
   ]
  },
  {
   "cell_type": "code",
   "execution_count": 123,
   "id": "84c39a4b",
   "metadata": {},
   "outputs": [
    {
     "name": "stdout",
     "output_type": "stream",
     "text": [
      "Граф является направленным и состоит из нескольких компонент.\n",
      "Количество вершин: 203\n",
      "Количество рёбер: 187\n",
      "Среднее количество соседей у узлов в графе: 0.9212\n"
     ]
    }
   ],
   "source": [
    "if nx.is_directed(Gnx):\n",
    "    if nx.is_weakly_connected(Gnx):\n",
    "        print('Граф является направленным и состоит из одной компоненты слабой связности.')\n",
    "    else:\n",
    "        print('Граф является направленным и состоит из нескольких компонент.')\n",
    "else:\n",
    "    if nx.is_connected(Gnx):\n",
    "        print('Граф является ненаправленным и связным.')\n",
    "    else:\n",
    "        print('Граф является ненаправленным и состоит из {} компонент, с числом элементов {}'.format(len([len(c) for c in sorted(nx.connected_components(Gnx), key=len, reverse=True)]), [len(c) for c in sorted(nx.connected_components(Gnx), key=len, reverse=True)]))\n",
    "print('Количество вершин: {}'.format(Gnx.number_of_nodes()))\n",
    "print('Количество рёбер: {}'.format(Gnx.number_of_edges()))\n",
    "print('Среднее количество соседей у узлов в графе: {}'.format(round(Gnx.number_of_edges() / float(Gnx.number_of_nodes()), 4)))"
   ]
  },
  {
   "cell_type": "code",
   "execution_count": 124,
   "id": "1676dada",
   "metadata": {},
   "outputs": [
    {
     "name": "stdout",
     "output_type": "stream",
     "text": [
      "                        Сообщество 1                        \n",
      "Лидеры     : ['Ахромеева Алина Ивановна', '225320']\n",
      "Посредники : ['348605', '771971', '61824', '800116', '89429', '731215', '879195', '859854']\n",
      "\n",
      "                        Сообщество 2                        \n",
      "Лидеры     : []\n",
      "Посредники : ['Стрик Элина Марселевна']\n",
      "\n"
     ]
    }
   ],
   "source": [
    "#Используем функцию для определения сообществ\n",
    "category = [categorize(Gnx, partition, nx.pagerank)]"
   ]
  },
  {
   "cell_type": "code",
   "execution_count": 114,
   "id": "2da544a0",
   "metadata": {},
   "outputs": [
    {
     "name": "stdout",
     "output_type": "stream",
     "text": [
      "Количество вершин в компоненте слабой связности: 54\n",
      "Количество рёбер в компоненте слабой связности: 53\n",
      "Среднее количество соседей у узла в компоненте слабой связности: 0.9815\n",
      "\n",
      "Количество вершин в компоненте сильной связности: 1\n",
      "Количество рёбер в компоненте сильной связности: 0\n",
      "Среднее количество соседей у узла в компоненте сильной связности: 0.0\n"
     ]
    }
   ],
   "source": [
    "#Также делим граф на подграфы по степени связности\n",
    "G_weak = Gnx.subgraph(max(nx.weakly_connected_components(Gnx), key=len))\n",
    "print('Количество вершин в компоненте слабой связности: {}'.format(G_weak.number_of_nodes()))\n",
    "print('Количество рёбер в компоненте слабой связности: {}'.format(G_weak.number_of_edges()))\n",
    "print('Среднее количество соседей у узла в компоненте слабой связности: {}\\n'.format(round(G_weak.number_of_edges() / float(G_weak.number_of_nodes()), 4)))\n",
    "\n",
    "G_strong = Gnx.subgraph(max(nx.strongly_connected_components(Gnx), key=len))\n",
    "print('Количество вершин в компоненте сильной связности: {}'.format(G_strong.number_of_nodes()))\n",
    "print('Количество рёбер в компоненте сильной связности: {}'.format(G_strong.number_of_edges()))\n",
    "print('Среднее количество соседей у узла в компоненте сильной связности: {}'.format(round(G_strong.number_of_edges() / float(G_strong.number_of_nodes()), 4)))"
   ]
  },
  {
   "cell_type": "code",
   "execution_count": 115,
   "id": "46d5456b",
   "metadata": {},
   "outputs": [
    {
     "data": {
      "image/png": "[encoded data removed]",
      "text/plain": [
       "<Figure size 1000x1000 with 1 Axes>"
      ]
     },
     "metadata": {},
     "output_type": "display_data"
    }
   ],
   "source": [
    "#Строим график зависимости количества связей и количества вершин - график степеней вершин графа\n",
    "degree = dict(Gnx.degree())\n",
    "degree_values = sorted(set(degree.values()))\n",
    "hist = [list(degree.values()).count(x) for x in degree_values]\n",
    "plt.figure(figsize=(10, 10))\n",
    "plt.plot(degree_values, hist, 'ro-')\n",
    "plt.legend(['Степень, хар-ка кол-ва соседей'])\n",
    "plt.xlabel('Степень')\n",
    "plt.ylabel('Кол-во вершин')\n",
    "plt.show()"
   ]
  },
  {
   "cell_type": "code",
   "execution_count": 129,
   "id": "636a5f87",
   "metadata": {},
   "outputs": [
    {
     "name": "stdout",
     "output_type": "stream",
     "text": [
      "Количество сообществ:  2\n",
      "Количество элементов в выделенных сообществах: 5, 4\n",
      "Элементы в выделенных сообществах: ['632506', '322516', '752080', '638471', 'Ахромеева Алина Ивановна'], ['Борчин Павел Робертович', 'Ларищев Илья Александрович', 'Стрик Элина Марселевна', '850472']\n"
     ]
    }
   ],
   "source": [
    "G_undirected = G_weak.to_undirected()\n",
    "partition = community.best_partition(G_undirected)\n",
    "communities = set(partition.values())\n",
    "communities_dict = {c: [k for k, v in partition.items() if v == c] for c in communities}\n",
    "highest_degree = {k: sorted(v, key=lambda x: Gnx.degree(x))[-5:] for k, v in communities_dict.items()}\n",
    "print('Количество сообществ: ', len(highest_degree))\n",
    "print('Количество элементов в выделенных сообществах:', ', '.join([str(len(highest_degree[key])) for key in highest_degree]))\n",
    "print('Элементы в выделенных сообществах:', ', '.join([str(highest_degree[key]) for key in highest_degree]))"
   ]
  },
  {
   "cell_type": "code",
   "execution_count": 122,
   "id": "e5f3c41c",
   "metadata": {},
   "outputs": [
    {
     "name": "stdout",
     "output_type": "stream",
     "text": [
      "Уровень взаимности графа:  0.0\n",
      "Уровень взаимности компоненты слабой связности:  0.0\n"
     ]
    }
   ],
   "source": [
    "print ('Уровень взаимности графа: ', nx.overall_reciprocity(Gnx))\n",
    "print ('Уровень взаимности компоненты слабой связности: ', nx.overall_reciprocity(G_weak))\n",
    "#print ('Уровень взаимности компоненты сильной связности: ', nx.overall_reciprocity(G_strong))"
   ]
  },
  {
   "cell_type": "markdown",
   "id": "97773c43",
   "metadata": {},
   "source": [
    "***Вывод: в исходных данных в основном присуствуют связи единичных пар участников и единичных событий, которые не представляют интересса для исследования, т.к. не формируют взаимосвязей с иными участниками и событиями. Принимаем такие связи за шум, выделяем события, в которых участвовали несколько пар участников, а также участников, которые участвовали в нескольких событиях, формируем их этих элементов граф, вершины которого - это участники и события, рёбра - направленные связи между событиями и участниками. В итоге, получаем направленный граф, состоящий из нескольких компонент, в основном слабой связности, в которых опреляются 2 сообщества. По графику степеней вершин графа видим, что большинство вершин графа почти не имеют соседей и имеет крайне низкое разнообразие степеней представленных в графе вершин, взаимность в графе отсуствует.***"
   ]
  },
  {
   "cell_type": "code",
   "execution_count": 34,
   "id": "e2034ba0",
   "metadata": {
    "scrolled": false
   },
   "outputs": [
    {
     "name": "stdout",
     "output_type": "stream",
     "text": [
      "Введите ФИО (например, 'Галчевская Карина Владимировна'): Галчевская Карина Владимировна\n",
      "Найдено, ответ в json: {\"results\":[{\"columns\":[\"n\"],\"data\":[{\"row\":[{\"FullName\":\"Галчевская Карина Владимировна\"}],\"meta\":[{\"id\":0,\"elementId\":\"4:e572e579-2743-47af-9d0c-cd28a5b14304:0\",\"type\":\"node\",\"deleted\":false}]}]}],\"errors\":[]}\n"
     ]
    }
   ],
   "source": [
    "#REST сервис выгрузки json из графовой БД по ФИО\n",
    "f_name = input(\"Введите ФИО (например, 'Галчевская Карина Владимировна'): \")\n",
    "#f_name = 'Галчевская Карина Владимировна'\n",
    "payload = {\n",
    "  \"statements\": [\n",
    "    {\n",
    "      \"statement\": \"MATCH (n) WHERE (n.FullName) = $f_name RETURN n\",\n",
    "      \"parameters\": {\n",
    "        \"f_name\": f_name\n",
    "      }\n",
    "    }\n",
    "  ]\n",
    "}\n",
    "\n",
    "res = requests.post('http://localhost:7474/db/neo4j/tx/commit', json=payload)\n",
    "if 'meta' in res.text:\n",
    "    print('Найдено, ответ в json: {}'.format(res.text))\n",
    "else:\n",
    "    print('ФИО не найдено!')"
   ]
  },
  {
   "cell_type": "code",
   "execution_count": null,
   "id": "0a969b68",
   "metadata": {},
   "outputs": [],
   "source": []
  }
 ],
 "metadata": {
  "kernelspec": {
   "display_name": "Python 3 (ipykernel)",
   "language": "python",
   "name": "python3"
  },
  "language_info": {
   "codemirror_mode": {
    "name": "ipython",
    "version": 3
   },
   "file_extension": ".py",
   "mimetype": "text/x-python",
   "name": "python",
   "nbconvert_exporter": "python",
   "pygments_lexer": "ipython3",
   "version": "3.9.16"
  }
 },
 "nbformat": 4,
 "nbformat_minor": 5
}
